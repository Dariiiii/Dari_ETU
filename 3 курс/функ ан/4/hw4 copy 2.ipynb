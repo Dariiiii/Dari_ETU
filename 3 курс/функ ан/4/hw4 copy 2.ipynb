{
 "cells": [
  {
   "cell_type": "code",
   "execution_count": 21,
   "metadata": {},
   "outputs": [],
   "source": [
    "from sympy import *\n",
    "import numpy as np"
   ]
  },
  {
   "cell_type": "code",
   "execution_count": 22,
   "metadata": {},
   "outputs": [],
   "source": [
    "k = Matrix([Rational(a) for a in \"1 2 9 2\".split()])\n",
    "g = Matrix([Rational(a) for a in \"3 5 4 6\".split()])\n"
   ]
  },
  {
   "cell_type": "code",
   "execution_count": 23,
   "metadata": {},
   "outputs": [
    {
     "data": {
      "text/latex": [
       "$\\displaystyle 108$"
      ],
      "text/plain": [
       "108"
      ]
     },
     "execution_count": 23,
     "metadata": {},
     "output_type": "execute_result"
    }
   ],
   "source": [
    "g.dot(k)"
   ]
  },
  {
   "cell_type": "code",
   "execution_count": 24,
   "metadata": {},
   "outputs": [
    {
     "data": {
      "text/plain": [
       "[Matrix([\n",
       " [ 2*sqrt(2)/5],\n",
       " [3*sqrt(2)/10],\n",
       " [3*sqrt(2)/10],\n",
       " [ 2*sqrt(2)/5]]),\n",
       " Matrix([\n",
       " [-6*sqrt(82)/205],\n",
       " [    sqrt(82)/10],\n",
       " [-9*sqrt(82)/410],\n",
       " [-6*sqrt(82)/205]]),\n",
       " Matrix([\n",
       " [-3*sqrt(82)/82],\n",
       " [             0],\n",
       " [ 4*sqrt(82)/41],\n",
       " [-3*sqrt(82)/82]]),\n",
       " Matrix([\n",
       " [-sqrt(2)/2],\n",
       " [         0],\n",
       " [         0],\n",
       " [ sqrt(2)/2]])]"
      ]
     },
     "execution_count": 24,
     "metadata": {},
     "output_type": "execute_result"
    }
   ],
   "source": [
    "\n",
    "e_1 = g\n",
    "e_2 = Matrix([Rational(a) for a in [0, 1, 0, 0]])\n",
    "e_3 = Matrix([Rational(a) for a in [0, 0, 1, 0]])\n",
    "e_4 = Matrix([Rational(a) for a in [0, 0, 0, 1]])\n",
    "basis = [e_1, e_2, e_3, e_4]\n",
    "# print(Matrix([a.T for a in basis]).det()) # non-zero\n",
    "basis = GramSchmidt(basis)\n",
    "for i in range(4):\n",
    "    basis[i] /= basis[i].norm()\n",
    "e_1, e_2, e_3, e_4 = basis\n",
    "basis"
   ]
  },
  {
   "cell_type": "code",
   "execution_count": 25,
   "metadata": {},
   "outputs": [
    {
     "data": {
      "text/latex": [
       "$\\displaystyle 10 \\sqrt{2}$"
      ],
      "text/plain": [
       "10*sqrt(2)"
      ]
     },
     "execution_count": 25,
     "metadata": {},
     "output_type": "execute_result"
    }
   ],
   "source": [
    "g.dot(basis[0])"
   ]
  },
  {
   "cell_type": "code",
   "execution_count": 26,
   "metadata": {},
   "outputs": [],
   "source": [
    "a,b,c,d,f = [\n",
    "    Matrix([\n",
    "        sym for sym in symbols(\n",
    "            ' '.join([f\"{var}_{i}\" for i in range(1,5)])\n",
    "            )\n",
    "    ])\n",
    "    for var in 'abcdf'\n",
    "]"
   ]
  },
  {
   "cell_type": "code",
   "execution_count": 27,
   "metadata": {},
   "outputs": [
    {
     "data": {
      "text/plain": [
       "{a_1: -3*a_3/2 - 11*a_4/8, a_2: a_3 + a_4/2}"
      ]
     },
     "execution_count": 27,
     "metadata": {},
     "output_type": "execute_result"
    }
   ],
   "source": [
    "solve([g.dot(a), k.dot(a)])"
   ]
  },
  {
   "cell_type": "code",
   "execution_count": 28,
   "metadata": {},
   "outputs": [],
   "source": [
    "a = Matrix([Rational(i) for i in \"-1/15,2/15,0,0\".split(',')])\n",
    "b = Matrix([Rational(i) for i in \"-21,2,5,0\".split(',')])\n",
    "c = Matrix([Rational(i) for i in \"-2,-1,0,5\".split(',')])"
   ]
  },
  {
   "cell_type": "code",
   "execution_count": 29,
   "metadata": {},
   "outputs": [
    {
     "data": {
      "text/plain": [
       "{d_1: 2*d_4, d_2: d_4, d_3: 8*d_4}"
      ]
     },
     "execution_count": 29,
     "metadata": {},
     "output_type": "execute_result"
    }
   ],
   "source": [
    "solve([a.dot(d), c.dot(d), b.dot(d)])"
   ]
  },
  {
   "cell_type": "code",
   "execution_count": 30,
   "metadata": {},
   "outputs": [],
   "source": [
    "d = Matrix([Rational(i) for i in \"2,1,8,1\".split(',')])"
   ]
  },
  {
   "cell_type": "code",
   "execution_count": 31,
   "metadata": {},
   "outputs": [
    {
     "name": "stdout",
     "output_type": "stream",
     "text": [
      "[-2/15, 4/15, -57, -126, 16, 18]\n",
      "[0, 0, 0]\n"
     ]
    }
   ],
   "source": [
    "print([r for r in [a.dot(k), a.dot(g), b.dot(k), b.dot(g), c.dot(k), c.dot(g)]])\n",
    "print([d.dot(v) for v in [a,b,c]])\n"
   ]
  },
  {
   "cell_type": "code",
   "execution_count": 32,
   "metadata": {},
   "outputs": [],
   "source": [
    "a,b,c,d= GramSchmidt([a.T,b.T,c.T,d.T])"
   ]
  },
  {
   "cell_type": "code",
   "execution_count": 33,
   "metadata": {},
   "outputs": [
    {
     "name": "stdout",
     "output_type": "stream",
     "text": [
      "[-2/15, 4/15, -47, -146, 1480/69, 2410/69]\n",
      "Matrix([[-sqrt(5)/5, 2*sqrt(5)/5, 0, 0]])\n",
      "Matrix([[-16*sqrt(345)/345, -8*sqrt(345)/345, sqrt(345)/69, 0]])\n",
      "Matrix([[-sqrt(4830)/2415, -sqrt(4830)/4830, -4*sqrt(4830)/2415, sqrt(4830)/70]])\n",
      "Matrix([[sqrt(70)/35, sqrt(70)/70, 4*sqrt(70)/35, sqrt(70)/70]])\n"
     ]
    }
   ],
   "source": [
    "print([r for r in [a.dot(k), a.dot(g), b.dot(k), b.dot(g), c.dot(k), c.dot(g)]])\n",
    "a /= a.norm()\n",
    "b /= b.norm()\n",
    "c /= c.norm()\n",
    "d /= d.norm()\n",
    "print(a)\n",
    "print(b)\n",
    "print(c)\n",
    "print(d)"
   ]
  },
  {
   "cell_type": "code",
   "execution_count": 34,
   "metadata": {},
   "outputs": [],
   "source": [
    "# Lena's \"genius\"\n",
    "# a = [-0.447213595499958, 0.894427190999916, 0, 0]\n",
    "# b = [-0.861411043293065, -0.430705521646532, 0.269190951029083, 0]\n",
    "# c = [-0.028777723153448, -0.014388861576724, -0.115110892613791, 0.992831448793946]\n",
    "# d = [0.239045721866879,0.119522860933439,0.956182887467515,0.119522860933439]\n",
    "# a,b,c,d = [Matrix(v) for v in [a,b,c,d]]"
   ]
  },
  {
   "cell_type": "code",
   "execution_count": 35,
   "metadata": {},
   "outputs": [
    {
     "data": {
      "text/latex": [
       "$\\displaystyle 9.49285445555159$"
      ],
      "text/plain": [
       "9.49285445555159"
      ]
     },
     "execution_count": 35,
     "metadata": {},
     "output_type": "execute_result"
    }
   ],
   "source": [
    "sqrt(g.dot(a)**2 + g.dot(d)**2).evalf()"
   ]
  },
  {
   "cell_type": "code",
   "execution_count": 36,
   "metadata": {},
   "outputs": [
    {
     "name": "stdout",
     "output_type": "stream",
     "text": [
      "-sqrt(5)*f_1/5 + 2*sqrt(5)*f_2/5\n",
      "-16*sqrt(345)*f_1/345 - 8*sqrt(345)*f_2/345 + sqrt(345)*f_3/69\n",
      "-sqrt(4830)*f_1/2415 - sqrt(4830)*f_2/4830 - 4*sqrt(4830)*f_3/2415 + sqrt(4830)*f_4/70\n",
      "sqrt(70)*f_1/35 + sqrt(70)*f_2/70 + 4*sqrt(70)*f_3/35 + sqrt(70)*f_4/70\n"
     ]
    }
   ],
   "source": [
    "[print(f.dot(v)) for v in [a,b,c,d]];"
   ]
  },
  {
   "cell_type": "code",
   "execution_count": 37,
   "metadata": {},
   "outputs": [
    {
     "data": {
      "text/plain": [
       "{f_1: -4/5, f_2: 8/5, f_3: 0, f_4: 0}"
      ]
     },
     "execution_count": 37,
     "metadata": {},
     "output_type": "execute_result"
    }
   ],
   "source": [
    "solve([f.dot(a)-g.dot(a), f.dot(b), f.dot(c), f.dot(d)])"
   ]
  },
  {
   "cell_type": "code",
   "execution_count": 38,
   "metadata": {},
   "outputs": [],
   "source": [
    "f = Matrix([Rational(i) for i in \"-3,6,0,0\".split(',')])"
   ]
  },
  {
   "cell_type": "code",
   "execution_count": 39,
   "metadata": {},
   "outputs": [
    {
     "data": {
      "text/latex": [
       "$\\displaystyle 3 \\sqrt{5}$"
      ],
      "text/plain": [
       "3*sqrt(5)"
      ]
     },
     "execution_count": 39,
     "metadata": {},
     "output_type": "execute_result"
    }
   ],
   "source": [
    "f.dot(a)"
   ]
  },
  {
   "cell_type": "code",
   "execution_count": 40,
   "metadata": {},
   "outputs": [
    {
     "data": {
      "text/latex": [
       "$\\displaystyle 0$"
      ],
      "text/plain": [
       "0"
      ]
     },
     "execution_count": 40,
     "metadata": {},
     "output_type": "execute_result"
    }
   ],
   "source": [
    "f.dot(d)"
   ]
  }
 ],
 "metadata": {
  "kernelspec": {
   "display_name": "Python 3",
   "language": "python",
   "name": "python3"
  },
  "language_info": {
   "codemirror_mode": {
    "name": "ipython",
    "version": 3
   },
   "file_extension": ".py",
   "mimetype": "text/x-python",
   "name": "python",
   "nbconvert_exporter": "python",
   "pygments_lexer": "ipython3",
   "version": "3.9.0"
  }
 },
 "nbformat": 4,
 "nbformat_minor": 2
}
