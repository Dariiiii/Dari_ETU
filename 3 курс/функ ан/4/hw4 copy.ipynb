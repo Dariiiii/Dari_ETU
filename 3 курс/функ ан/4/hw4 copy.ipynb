{
 "cells": [
  {
   "cell_type": "code",
   "execution_count": 124,
   "metadata": {},
   "outputs": [],
   "source": [
    "from sympy import *\n",
    "import numpy as np"
   ]
  },
  {
   "cell_type": "code",
   "execution_count": 125,
   "metadata": {},
   "outputs": [],
   "source": [
    "k = Matrix([Rational(a) for a in \"4 1 5 5\".split()])\n",
    "g = Matrix([Rational(a) for a in \"8 6 6 8\".split()])\n"
   ]
  },
  {
   "cell_type": "code",
   "execution_count": 126,
   "metadata": {},
   "outputs": [
    {
     "data": {
      "text/latex": [
       "$\\displaystyle 108$"
      ],
      "text/plain": [
       "108"
      ]
     },
     "execution_count": 126,
     "metadata": {},
     "output_type": "execute_result"
    }
   ],
   "source": [
    "g.dot(k)"
   ]
  },
  {
   "cell_type": "code",
   "execution_count": 127,
   "metadata": {},
   "outputs": [
    {
     "data": {
      "text/plain": [
       "[Matrix([\n",
       " [ 2*sqrt(2)/5],\n",
       " [3*sqrt(2)/10],\n",
       " [3*sqrt(2)/10],\n",
       " [ 2*sqrt(2)/5]]),\n",
       " Matrix([\n",
       " [-6*sqrt(82)/205],\n",
       " [    sqrt(82)/10],\n",
       " [-9*sqrt(82)/410],\n",
       " [-6*sqrt(82)/205]]),\n",
       " Matrix([\n",
       " [-3*sqrt(82)/82],\n",
       " [             0],\n",
       " [ 4*sqrt(82)/41],\n",
       " [-3*sqrt(82)/82]]),\n",
       " Matrix([\n",
       " [-sqrt(2)/2],\n",
       " [         0],\n",
       " [         0],\n",
       " [ sqrt(2)/2]])]"
      ]
     },
     "execution_count": 127,
     "metadata": {},
     "output_type": "execute_result"
    }
   ],
   "source": [
    "\n",
    "e_1 = g\n",
    "e_2 = Matrix([Rational(a) for a in [0, 1, 0, 0]])\n",
    "e_3 = Matrix([Rational(a) for a in [0, 0, 1, 0]])\n",
    "e_4 = Matrix([Rational(a) for a in [0, 0, 0, 1]])\n",
    "basis = [e_1, e_2, e_3, e_4]\n",
    "# print(Matrix([a.T for a in basis]).det()) # non-zero\n",
    "basis = GramSchmidt(basis)\n",
    "for i in range(4):\n",
    "    basis[i] /= basis[i].norm()\n",
    "e_1, e_2, e_3, e_4 = basis\n",
    "basis"
   ]
  },
  {
   "cell_type": "code",
   "execution_count": 128,
   "metadata": {},
   "outputs": [
    {
     "data": {
      "text/latex": [
       "$\\displaystyle 10 \\sqrt{2}$"
      ],
      "text/plain": [
       "10*sqrt(2)"
      ]
     },
     "execution_count": 128,
     "metadata": {},
     "output_type": "execute_result"
    }
   ],
   "source": [
    "g.dot(basis[0])"
   ]
  },
  {
   "cell_type": "code",
   "execution_count": 129,
   "metadata": {},
   "outputs": [],
   "source": [
    "a,b,c,d,f = [\n",
    "    Matrix([\n",
    "        sym for sym in symbols(\n",
    "            ' '.join([f\"{var}_{i}\" for i in range(1,5)])\n",
    "            )\n",
    "    ])\n",
    "    for var in 'abcdf'\n",
    "]"
   ]
  },
  {
   "cell_type": "code",
   "execution_count": 130,
   "metadata": {},
   "outputs": [
    {
     "data": {
      "text/plain": [
       "{a_1: -3*a_3/2 - 11*a_4/8, a_2: a_3 + a_4/2}"
      ]
     },
     "execution_count": 130,
     "metadata": {},
     "output_type": "execute_result"
    }
   ],
   "source": [
    "solve([g.dot(a), k.dot(a)])"
   ]
  },
  {
   "cell_type": "code",
   "execution_count": 131,
   "metadata": {},
   "outputs": [],
   "source": [
    "a = Matrix([Rational(i) for i in \"-1/16,1/4,0,0\".split(',')])\n",
    "b = Matrix([Rational(i) for i in \"-3,2,2,0\".split(',')])\n",
    "c = Matrix([Rational(i) for i in \"-11,4,0,8\".split(',')])"
   ]
  },
  {
   "cell_type": "code",
   "execution_count": 132,
   "metadata": {},
   "outputs": [
    {
     "data": {
      "text/plain": [
       "{d_1: 4*d_4/5, d_2: d_4/5, d_3: d_4}"
      ]
     },
     "execution_count": 132,
     "metadata": {},
     "output_type": "execute_result"
    }
   ],
   "source": [
    "solve([a.dot(d), c.dot(d), b.dot(d)])"
   ]
  },
  {
   "cell_type": "code",
   "execution_count": 133,
   "metadata": {},
   "outputs": [],
   "source": [
    "d = Matrix([Rational(i) for i in \"4/5,1/5,1,1\".split(',')])"
   ]
  },
  {
   "cell_type": "code",
   "execution_count": 134,
   "metadata": {},
   "outputs": [
    {
     "name": "stdout",
     "output_type": "stream",
     "text": [
      "[0, 1, 0, 0, 0, 0]\n",
      "[0, 0, 0]\n"
     ]
    }
   ],
   "source": [
    "print([r for r in [a.dot(k), a.dot(g), b.dot(k), b.dot(g), c.dot(k), c.dot(g)]])\n",
    "print([d.dot(v) for v in [a,b,c]])\n"
   ]
  },
  {
   "cell_type": "code",
   "execution_count": 135,
   "metadata": {},
   "outputs": [],
   "source": [
    "a,b,c,d= GramSchmidt([a.T,b.T,c.T,d.T])"
   ]
  },
  {
   "cell_type": "code",
   "execution_count": 136,
   "metadata": {},
   "outputs": [
    {
     "name": "stdout",
     "output_type": "stream",
     "text": [
      "[0, 1, 0, -176/17, 0, -16/21]\n",
      "Matrix([[-sqrt(17)/17, 4*sqrt(17)/17, 0, 0]])\n",
      "Matrix([[-10*sqrt(714)/357, -5*sqrt(714)/714, sqrt(714)/42, 0]])\n",
      "Matrix([[-10*sqrt(2814)/1407, -5*sqrt(2814)/2814, -25*sqrt(2814)/2814, sqrt(2814)/67]])\n",
      "Matrix([[4*sqrt(67)/67, sqrt(67)/67, 5*sqrt(67)/67, 5*sqrt(67)/67]])\n"
     ]
    }
   ],
   "source": [
    "print([r for r in [a.dot(k), a.dot(g), b.dot(k), b.dot(g), c.dot(k), c.dot(g)]])\n",
    "a /= a.norm()\n",
    "b /= b.norm()\n",
    "c /= c.norm()\n",
    "d /= d.norm()\n",
    "print(a)\n",
    "print(b)\n",
    "print(c)\n",
    "print(d)"
   ]
  },
  {
   "cell_type": "code",
   "execution_count": 137,
   "metadata": {},
   "outputs": [],
   "source": [
    "# Lena's \"genius\"\n",
    "# a = [-0.447213595499958, 0.894427190999916, 0, 0]\n",
    "# b = [-0.861411043293065, -0.430705521646532, 0.269190951029083, 0]\n",
    "# c = [-0.028777723153448, -0.014388861576724, -0.115110892613791, 0.992831448793946]\n",
    "# d = [0.239045721866879,0.119522860933439,0.956182887467515,0.119522860933439]\n",
    "# a,b,c,d = [Matrix(v) for v in [a,b,c,d]]"
   ]
  },
  {
   "cell_type": "code",
   "execution_count": 138,
   "metadata": {},
   "outputs": [
    {
     "data": {
      "text/latex": [
       "$\\displaystyle 13.7531224006848$"
      ],
      "text/plain": [
       "13.7531224006848"
      ]
     },
     "execution_count": 138,
     "metadata": {},
     "output_type": "execute_result"
    }
   ],
   "source": [
    "sqrt(g.dot(a)**2 + g.dot(d)**2).evalf()"
   ]
  },
  {
   "cell_type": "code",
   "execution_count": 144,
   "metadata": {},
   "outputs": [
    {
     "data": {
      "text/latex": [
       "$\\displaystyle \\frac{16 \\sqrt{17}}{17}$"
      ],
      "text/plain": [
       "16*sqrt(17)/17"
      ]
     },
     "execution_count": 144,
     "metadata": {},
     "output_type": "execute_result"
    }
   ],
   "source": [
    "g.dot(a)"
   ]
  },
  {
   "cell_type": "code",
   "execution_count": 139,
   "metadata": {},
   "outputs": [
    {
     "name": "stdout",
     "output_type": "stream",
     "text": [
      "-sqrt(17)*f_1/17 + 4*sqrt(17)*f_2/17\n",
      "-10*sqrt(714)*f_1/357 - 5*sqrt(714)*f_2/714 + sqrt(714)*f_3/42\n",
      "-10*sqrt(2814)*f_1/1407 - 5*sqrt(2814)*f_2/2814 - 25*sqrt(2814)*f_3/2814 + sqrt(2814)*f_4/67\n",
      "4*sqrt(67)*f_1/67 + sqrt(67)*f_2/67 + 5*sqrt(67)*f_3/67 + 5*sqrt(67)*f_4/67\n"
     ]
    }
   ],
   "source": [
    "[print(f.dot(v)) for v in [a,b,c,d]];"
   ]
  },
  {
   "cell_type": "code",
   "execution_count": 140,
   "metadata": {},
   "outputs": [
    {
     "data": {
      "text/plain": [
       "{f_1: -16/17, f_2: 64/17, f_3: 0, f_4: 0}"
      ]
     },
     "execution_count": 140,
     "metadata": {},
     "output_type": "execute_result"
    }
   ],
   "source": [
    "solve([f.dot(a)-g.dot(a), f.dot(b), f.dot(c), f.dot(d)])"
   ]
  },
  {
   "cell_type": "code",
   "execution_count": 145,
   "metadata": {},
   "outputs": [],
   "source": [
    "f = Matrix([Rational(i) for i in \"-16/17,64/17,0,0\".split(',')])"
   ]
  },
  {
   "cell_type": "code",
   "execution_count": 146,
   "metadata": {},
   "outputs": [
    {
     "data": {
      "text/latex": [
       "$\\displaystyle \\frac{16 \\sqrt{17}}{17}$"
      ],
      "text/plain": [
       "16*sqrt(17)/17"
      ]
     },
     "execution_count": 146,
     "metadata": {},
     "output_type": "execute_result"
    }
   ],
   "source": [
    "f.dot(a)"
   ]
  },
  {
   "cell_type": "code",
   "execution_count": 143,
   "metadata": {},
   "outputs": [
    {
     "data": {
      "text/latex": [
       "$\\displaystyle - \\frac{6 \\sqrt{67}}{67}$"
      ],
      "text/plain": [
       "-6*sqrt(67)/67"
      ]
     },
     "execution_count": 143,
     "metadata": {},
     "output_type": "execute_result"
    }
   ],
   "source": [
    "f.dot(d)"
   ]
  }
 ],
 "metadata": {
  "kernelspec": {
   "display_name": "Python 3",
   "language": "python",
   "name": "python3"
  },
  "language_info": {
   "codemirror_mode": {
    "name": "ipython",
    "version": 3
   },
   "file_extension": ".py",
   "mimetype": "text/x-python",
   "name": "python",
   "nbconvert_exporter": "python",
   "pygments_lexer": "ipython3",
   "version": "3.9.0"
  }
 },
 "nbformat": 4,
 "nbformat_minor": 2
}
