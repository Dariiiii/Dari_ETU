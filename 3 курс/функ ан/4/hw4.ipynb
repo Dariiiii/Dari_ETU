{
 "cells": [
  {
   "cell_type": "code",
   "execution_count": 24,
   "metadata": {},
   "outputs": [],
   "source": [
    "from sympy import *\n",
    "import numpy as np"
   ]
  },
  {
   "cell_type": "code",
   "execution_count": 25,
   "metadata": {},
   "outputs": [],
   "source": [
    "k = Matrix([Rational(a) for a in \"2 1 8 1\".split()])\n",
    "g = Matrix([Rational(a) for a in \"1 8 1 2\".split()])\n"
   ]
  },
  {
   "cell_type": "code",
   "execution_count": 26,
   "metadata": {},
   "outputs": [
    {
     "data": {
      "text/latex": [
       "$\\displaystyle 20$"
      ],
      "text/plain": [
       "20"
      ]
     },
     "execution_count": 26,
     "metadata": {},
     "output_type": "execute_result"
    }
   ],
   "source": [
    "g.dot(k)"
   ]
  },
  {
   "cell_type": "code",
   "execution_count": 27,
   "metadata": {},
   "outputs": [
    {
     "name": "stdout",
     "output_type": "stream",
     "text": [
      "1\n"
     ]
    },
    {
     "data": {
      "text/plain": [
       "[Matrix([\n",
       " [  sqrt(70)/70],\n",
       " [4*sqrt(70)/35],\n",
       " [  sqrt(70)/70],\n",
       " [  sqrt(70)/35]]),\n",
       " Matrix([\n",
       " [-4*sqrt(105)/105],\n",
       " [    sqrt(105)/35],\n",
       " [-4*sqrt(105)/105],\n",
       " [-8*sqrt(105)/105]]),\n",
       " Matrix([\n",
       " [-sqrt(30)/30],\n",
       " [           0],\n",
       " [  sqrt(30)/6],\n",
       " [-sqrt(30)/15]]),\n",
       " Matrix([\n",
       " [-2*sqrt(5)/5],\n",
       " [           0],\n",
       " [           0],\n",
       " [   sqrt(5)/5]])]"
      ]
     },
     "execution_count": 27,
     "metadata": {},
     "output_type": "execute_result"
    }
   ],
   "source": [
    "\n",
    "e_1 = g\n",
    "e_2 = Matrix([Rational(a) for a in [0, 1, 0, 0]])\n",
    "e_3 = Matrix([Rational(a) for a in [0, 0, 1, 0]])\n",
    "e_4 = Matrix([Rational(a) for a in [0, 0, 0, 1]])\n",
    "basis = [e_1, e_2, e_3, e_4]\n",
    "print(Matrix([a.T for a in basis]).det()) # non-zero\n",
    "basis = GramSchmidt(basis)\n",
    "for i in range(4):\n",
    "    basis[i] /= basis[i].norm()\n",
    "e_1, e_2, e_3, e_4 = basis\n",
    "basis"
   ]
  },
  {
   "cell_type": "code",
   "execution_count": 28,
   "metadata": {},
   "outputs": [
    {
     "data": {
      "text/latex": [
       "$\\displaystyle \\sqrt{70}$"
      ],
      "text/plain": [
       "sqrt(70)"
      ]
     },
     "execution_count": 28,
     "metadata": {},
     "output_type": "execute_result"
    }
   ],
   "source": [
    "g.dot(basis[0])"
   ]
  },
  {
   "cell_type": "code",
   "execution_count": 29,
   "metadata": {},
   "outputs": [],
   "source": [
    "a,b,c,d,f = [\n",
    "    Matrix([\n",
    "        sym for sym in symbols(\n",
    "            ' '.join([f\"{var}_{i}\" for i in range(1,5)])\n",
    "            )\n",
    "    ])\n",
    "    for var in 'abcdf'\n",
    "]"
   ]
  },
  {
   "cell_type": "code",
   "execution_count": 30,
   "metadata": {},
   "outputs": [
    {
     "data": {
      "text/plain": [
       "{a_1: -21*a_3/5 - 2*a_4/5, a_2: 2*a_3/5 - a_4/5}"
      ]
     },
     "execution_count": 30,
     "metadata": {},
     "output_type": "execute_result"
    }
   ],
   "source": [
    "solve([g.dot(a), k.dot(a)])"
   ]
  },
  {
   "cell_type": "code",
   "execution_count": 31,
   "metadata": {},
   "outputs": [],
   "source": [
    "a = Matrix([Rational(i) for i in \"-1/15,2/15,0,0\".split(',')])\n",
    "b = Matrix([Rational(i) for i in \"-21,2,5,0\".split(',')])\n",
    "c = Matrix([Rational(i) for i in \"-2,-1,0,5\".split(',')])"
   ]
  },
  {
   "cell_type": "code",
   "execution_count": 32,
   "metadata": {},
   "outputs": [
    {
     "data": {
      "text/plain": [
       "{d_1: 2*d_4, d_2: d_4, d_3: 8*d_4}"
      ]
     },
     "execution_count": 32,
     "metadata": {},
     "output_type": "execute_result"
    }
   ],
   "source": [
    "solve([a.dot(d), c.dot(d), b.dot(d)])"
   ]
  },
  {
   "cell_type": "code",
   "execution_count": 33,
   "metadata": {},
   "outputs": [],
   "source": [
    "d = Matrix([Rational(i) for i in \"2,1,8,1\".split(',')])"
   ]
  },
  {
   "cell_type": "code",
   "execution_count": 34,
   "metadata": {},
   "outputs": [
    {
     "name": "stdout",
     "output_type": "stream",
     "text": [
      "[0, 1, 0, 0, 0, 0]\n",
      "[0, 0, 0]\n"
     ]
    }
   ],
   "source": [
    "print([r for r in [a.dot(k), a.dot(g), b.dot(k), b.dot(g), c.dot(k), c.dot(g)]])\n",
    "print([d.dot(v) for v in [a,b,c]])\n"
   ]
  },
  {
   "cell_type": "code",
   "execution_count": 35,
   "metadata": {},
   "outputs": [],
   "source": [
    "a,b,c,d= GramSchmidt([a.T,b.T,c.T,d.T])"
   ]
  },
  {
   "cell_type": "code",
   "execution_count": 36,
   "metadata": {},
   "outputs": [
    {
     "name": "stdout",
     "output_type": "stream",
     "text": [
      "[0, 1, 0, -75, 0, 200/23]\n",
      "Matrix([[-sqrt(5)/5, 2*sqrt(5)/5, 0, 0]])\n",
      "Matrix([[-16*sqrt(345)/345, -8*sqrt(345)/345, sqrt(345)/69, 0]])\n",
      "Matrix([[-sqrt(4830)/2415, -sqrt(4830)/4830, -4*sqrt(4830)/2415, sqrt(4830)/70]])\n",
      "Matrix([[sqrt(70)/35, sqrt(70)/70, 4*sqrt(70)/35, sqrt(70)/70]])\n"
     ]
    }
   ],
   "source": [
    "print([r for r in [a.dot(k), a.dot(g), b.dot(k), b.dot(g), c.dot(k), c.dot(g)]])\n",
    "a /= a.norm()\n",
    "b /= b.norm()\n",
    "c /= c.norm()\n",
    "d /= d.norm()\n",
    "print(a)\n",
    "print(b)\n",
    "print(c)\n",
    "print(d)"
   ]
  },
  {
   "cell_type": "code",
   "execution_count": 44,
   "metadata": {},
   "outputs": [
    {
     "data": {
      "text/latex": [
       "$\\displaystyle 3 \\sqrt{5}$"
      ],
      "text/plain": [
       "3*sqrt(5)"
      ]
     },
     "execution_count": 44,
     "metadata": {},
     "output_type": "execute_result"
    }
   ],
   "source": [
    "g.dot(a)"
   ]
  },
  {
   "cell_type": "code",
   "execution_count": 37,
   "metadata": {},
   "outputs": [],
   "source": [
    "# Lena's \"genius\"\n",
    "# a = [-0.447213595499958, 0.894427190999916, 0, 0]\n",
    "# b = [-0.861411043293065, -0.430705521646532, 0.269190951029083, 0]\n",
    "# c = [-0.028777723153448, -0.014388861576724, -0.115110892613791, 0.992831448793946]\n",
    "# d = [0.239045721866879,0.119522860933439,0.956182887467515,0.119522860933439]\n",
    "# a,b,c,d = [Matrix(v) for v in [a,b,c,d]]"
   ]
  },
  {
   "cell_type": "code",
   "execution_count": 38,
   "metadata": {},
   "outputs": [
    {
     "data": {
      "text/latex": [
       "$\\displaystyle 7.12139633177972$"
      ],
      "text/plain": [
       "7.12139633177972"
      ]
     },
     "execution_count": 38,
     "metadata": {},
     "output_type": "execute_result"
    }
   ],
   "source": [
    "sqrt(g.dot(a)**2 + g.dot(d)**2).evalf()"
   ]
  },
  {
   "cell_type": "code",
   "execution_count": 39,
   "metadata": {},
   "outputs": [
    {
     "name": "stdout",
     "output_type": "stream",
     "text": [
      "-sqrt(5)*f_1/5 + 2*sqrt(5)*f_2/5\n",
      "-16*sqrt(345)*f_1/345 - 8*sqrt(345)*f_2/345 + sqrt(345)*f_3/69\n",
      "-sqrt(4830)*f_1/2415 - sqrt(4830)*f_2/4830 - 4*sqrt(4830)*f_3/2415 + sqrt(4830)*f_4/70\n",
      "sqrt(70)*f_1/35 + sqrt(70)*f_2/70 + 4*sqrt(70)*f_3/35 + sqrt(70)*f_4/70\n"
     ]
    }
   ],
   "source": [
    "[print(f.dot(v)) for v in [a,b,c,d]];"
   ]
  },
  {
   "cell_type": "code",
   "execution_count": 40,
   "metadata": {},
   "outputs": [
    {
     "data": {
      "text/plain": [
       "{f_1: -3, f_2: 6, f_3: 0, f_4: 0}"
      ]
     },
     "execution_count": 40,
     "metadata": {},
     "output_type": "execute_result"
    }
   ],
   "source": [
    "solve([f.dot(a)-g.dot(a), f.dot(b), f.dot(c), f.dot(d)])"
   ]
  },
  {
   "cell_type": "code",
   "execution_count": 41,
   "metadata": {},
   "outputs": [],
   "source": [
    "f = Matrix([Rational(i) for i in \"-3,6,0,0\".split(',')])"
   ]
  },
  {
   "cell_type": "code",
   "execution_count": 42,
   "metadata": {},
   "outputs": [
    {
     "data": {
      "text/latex": [
       "$\\displaystyle 3 \\sqrt{5}$"
      ],
      "text/plain": [
       "3*sqrt(5)"
      ]
     },
     "execution_count": 42,
     "metadata": {},
     "output_type": "execute_result"
    }
   ],
   "source": [
    "f.dot(a)"
   ]
  },
  {
   "cell_type": "code",
   "execution_count": 43,
   "metadata": {},
   "outputs": [
    {
     "data": {
      "text/latex": [
       "$\\displaystyle 0$"
      ],
      "text/plain": [
       "0"
      ]
     },
     "execution_count": 43,
     "metadata": {},
     "output_type": "execute_result"
    }
   ],
   "source": [
    "f.dot(d)"
   ]
  }
 ],
 "metadata": {
  "kernelspec": {
   "display_name": "Python 3",
   "language": "python",
   "name": "python3"
  },
  "language_info": {
   "codemirror_mode": {
    "name": "ipython",
    "version": 3
   },
   "file_extension": ".py",
   "mimetype": "text/x-python",
   "name": "python",
   "nbconvert_exporter": "python",
   "pygments_lexer": "ipython3",
   "version": "3.9.0"
  }
 },
 "nbformat": 4,
 "nbformat_minor": 2
}
