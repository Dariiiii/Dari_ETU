{
 "cells": [
  {
   "cell_type": "code",
   "execution_count": 18,
   "metadata": {},
   "outputs": [],
   "source": [
    "import numpy as np\n",
    "from sympy import *"
   ]
  },
  {
   "cell_type": "code",
   "execution_count": 29,
   "metadata": {},
   "outputs": [],
   "source": [
    "raw = '6789 107 3360 107 -2490 107 -4062 107 732 107 2127 107 -1860 107 168 107 1296 107 198 107 1143 107 -1818 107 -5148 107 -4050 107 3672 107 2781 107'\n",
    "nums = []\n",
    "numerator = True\n",
    "for i in raw.split():\n",
    "    if numerator:\n",
    "        nums.append([int(i)])\n",
    "    else:\n",
    "        nums[-1].append(int(i))\n",
    "    numerator = not numerator\n",
    "A = Matrix([[Rational(nums[i*4 + j][0], nums[i*4 + j][1]) for j in range(4)] for i in range(4)])"
   ]
  },
  {
   "cell_type": "code",
   "execution_count": 20,
   "metadata": {},
   "outputs": [],
   "source": [
    "class Solution:\n",
    "    def __init__(self, A):\n",
    "        self.A = A\n",
    "        self.dim = A.shape[0]\n",
    "        \n",
    "    @staticmethod\n",
    "    def vector_norm_1(x):\n",
    "        return sum([abs(xi) for xi in x])\n",
    "    @staticmethod\n",
    "    def vector_norm_inf(x):\n",
    "        return max([abs(xi) for xi in x])\n",
    "    def find_conj_matrix(self, A):\n",
    "        A_star = Matrix(A)\n",
    "        e = [0] * self.dim\n",
    "        for i in range(self.dim):\n",
    "            e[i] = Matrix([0] * 4)\n",
    "            e[i][i] = 1\n",
    "        for col in range(self.dim):\n",
    "            for row in range(self.dim):\n",
    "                alpha_i = (self.A @ e[row]).dot(e[col])\n",
    "                A_star[row, col] = alpha_i\n",
    "        return A_star\n",
    "    def matrix_norm_inf(self, M):\n",
    "        norm = max([sum([abs(amk) for amk in M[m, :]]) for m in range(self.dim)])\n",
    "        return norm\n",
    "    def matrix_norm_1(self, M):\n",
    "        norm = max([sum([abs(amk) for amk in M[:, k]]) for k in range(self.dim)])\n",
    "        return norm\n",
    "sol = Solution(A)\n",
    "print_latex_content = False\n",
    "ltx = lambda a: '$' + latex(a) + '$'\n",
    "if print_latex_content:\n",
    "    print(\"Задана матрица $A$: \")\n",
    "    print(ltx(A))"
   ]
  },
  {
   "cell_type": "code",
   "execution_count": 21,
   "metadata": {},
   "outputs": [],
   "source": [
    "x_sol_norm_1 = Matrix([1,0,0,0])\n",
    "x_sol_norm_inf = Matrix([1,1,-1,-1])\n",
    "if print_latex_content:\n",
    "    print(\"Необходимо посчитать её норму в $l_4^1$ и $l_4^{\\infty}$\\n\")\n",
    "    print(\"Для $l_4^1$ норму можно посчитать как максимум столбцовых сумм. Она будет равна \")\n",
    "    print(ltx(sol.matrix_norm_1(A)))\n",
    "    \n",
    "    print(\"И достигается норма на векторе\", ltx(x_sol_norm_1))\n",
    "\n",
    "    print(\"\\nДля $l_4^{\\infty}$ норму можно посчитать как максимум строковых сумм. Она будет равна \")\n",
    "    print(ltx(sol.matrix_norm_inf(A)))\n",
    "    print(\"И достигается норма на векторе\", ltx(x_sol_norm_inf))"
   ]
  },
  {
   "cell_type": "markdown",
   "metadata": {},
   "source": [
    "# ДЗ 2. Норма оператора.\n"
   ]
  },
  {
   "cell_type": "markdown",
   "metadata": {},
   "source": [
    "## Вариант 19. "
   ]
  },
  {
   "cell_type": "markdown",
   "metadata": {},
   "source": [
    "Выполнил: Шаганов Вячеслав Андреевич, студент группы 1384\n",
    "\n",
    "---"
   ]
  },
  {
   "cell_type": "markdown",
   "metadata": {},
   "source": [
    "## Теоретические положения\n",
    "\n",
    "1) Норма оператора\n",
    "\n",
    "    $||A|| = \\sup\\{||Ax||, ||x|| \\le 1\\}$\n",
    "\n",
    "    Можно показать, что норма оператора в $l^1$ будет равна максимуму среди сумм модулей в столбце, а в $l^\\infty$ - в строке\n",
    "    \n",
    "2) Число обусловленности\n",
    "\n",
    "    Число обусловленности определяет то, насколько чувствительна система ЛУ к изменению правой части.\\\n",
    "    $\\mathrm{cond}(A) = ||A||\\cdot||A^{-1}||$ \n",
    "\n",
    "    Для систем $Ax=b; A(x+\\Delta{x}) = b+\\Delta{b}$\\\n",
    "    Справедливо неравенство $\\frac{||\\Delta x||}{||x||} \\le cond(A) \\frac{||\\Delta b||}{||b||}$"
   ]
  },
  {
   "cell_type": "markdown",
   "metadata": {},
   "source": [
    "Задана матрица $A$ =\n",
    "$\\left[\\begin{matrix}\\frac{6789}{107} & \\frac{3360}{107} & - \\frac{2490}{107} & - \\frac{4062}{107}\\\\\\\\\\frac{732}{107} & \\frac{2127}{107} & - \\frac{1860}{107} & \\frac{168}{107}\\\\\\\\\\frac{1296}{107} & \\frac{198}{107} & \\frac{1143}{107} & - \\frac{1818}{107}\\\\\\\\- \\frac{5148}{107} & - \\frac{4050}{107} & \\frac{3672}{107} & \\frac{2781}{107}\\end{matrix}\\right]$"
   ]
  },
  {
   "cell_type": "markdown",
   "metadata": {},
   "source": [
    "### Задание 1\n",
    "Необходимо посчитать её норму в $l_4^1$ и $l_4^{\\infty}$\n",
    "\n",
    "Для $l_4^1$ норму можно посчитать как максимум столбцовых сумм. Она будет равна \n",
    "$\\frac{13965}{107}$\n",
    "и достигается на векторе $\\left[\\begin{matrix}1\\\\0\\\\0\\\\0\\end{matrix}\\right]$\n",
    "\n",
    "Для $l_4^{\\infty}$ норму можно посчитать как максимум строковых сумм. Она будет равна \n",
    "$\\frac{16701}{107}$\n",
    "и достигается на векторе $\\left[\\begin{matrix}1\\\\1\\\\-1\\\\-1\\end{matrix}\\right]$"
   ]
  },
  {
   "cell_type": "markdown",
   "metadata": {},
   "source": [
    "### Задание 2"
   ]
  },
  {
   "cell_type": "code",
   "execution_count": 22,
   "metadata": {},
   "outputs": [],
   "source": [
    "A_inv = A.inv()\n",
    "x_inv_norm_1 = Matrix([0,0,0,1])\n",
    "x_inv_norm_inf = Matrix([1,1,-1,1])\n",
    "if print_latex_content:\n",
    "    print(\"Необходимо посчитать норму $A^{-1}$ в $l_4^1$ и $l_4^{\\infty}$\\n\")\n",
    "\n",
    "    print(\"$A^{-1} =\", latex(A_inv), \"$\")\n",
    "\n",
    "    print(\"\\nДля $l_4^1$ норму можно посчитать как максимум столбцовых сумм. Она будет равна \")\n",
    "    print(ltx(sol.matrix_norm_1(A_inv)))\n",
    "    \n",
    "    print(\"И достигается норма на векторе\", ltx(x_inv_norm_1))\n",
    "\n",
    "    print(\"\\nДля $l_4^{\\infty}$ норму можно посчитать как максимум строковых сумм. Она будет равна \")\n",
    "    print(ltx(sol.matrix_norm_inf(A_inv)))\n",
    "    print(\"И достигается норма на векторе\", ltx(x_inv_norm_inf))\n",
    "\n",
    "    # print(sol.vector_norm_inf(A_inv @ x_inv_norm_inf))"
   ]
  },
  {
   "cell_type": "markdown",
   "metadata": {},
   "source": [
    "Необходимо посчитать норму $A^{-1}$ в $l_4^1$ и $l_4^{\\infty}$\n",
    "\n",
    "$A^{-1} = \\left[\\begin{matrix}\\frac{367}{2889} & \\frac{224}{2889} & - \\frac{166}{2889} & \\frac{46}{321}\\\\\\\\\\frac{68}{2889} & \\frac{373}{2889} & \\frac{164}{2889} & \\frac{184}{2889}\\\\\\\\\\frac{784}{8667} & \\frac{1166}{8667} & \\frac{311}{8667} & \\frac{142}{963}\\\\\\\\\\frac{1300}{8667} & \\frac{1334}{8667} & - \\frac{616}{8667} & \\frac{583}{2889}\\end{matrix}\\right] $\n",
    "\n",
    "Для $l_4^1$ норму можно посчитать как максимум столбцовых сумм. Она будет равна \n",
    "$\\frac{1607}{2889}$\n",
    "и достигается на векторе $\\left[\\begin{matrix}0\\\\0\\\\0\\\\1\\end{matrix}\\right]$\n",
    "\n",
    "Для $l_4^{\\infty}$ норму можно посчитать как максимум строковых сумм. Она будет равна \n",
    "$\\frac{4999}{8667}$\n",
    "И достигается на векторе $\\left[\\begin{matrix}1\\\\1\\\\-1\\\\1\\end{matrix}\\right]$"
   ]
  },
  {
   "cell_type": "markdown",
   "metadata": {},
   "source": [
    "### Задание 3\n",
    "Необходимо посчитать число обусловленности матрицы $A$ в рассмотренных ранее пространствах.\n",
    "\n",
    "$\\mathrm{cond}(A) = ||A||\\cdot||A^{-1}||$\n",
    "\n",
    "1) $l_4^1$: $\\mathrm{cond}(A) = \\frac{13965}{107} \\cdot \\frac{1607}{2889} = \\frac{7480585}{103041} \\approx 72.56$\n",
    "\n",
    "2) $l_4^{\\infty}$: $\\mathrm{cond}(A) = \\frac{16701}{107} \\cdot \\frac{4999}{8667} = \\frac{27829433}{309123} \\approx 90.03$"
   ]
  },
  {
   "cell_type": "markdown",
   "metadata": {},
   "source": [
    "### Задание 4"
   ]
  },
  {
   "cell_type": "code",
   "execution_count": 23,
   "metadata": {},
   "outputs": [],
   "source": [
    "A_star = sol.find_conj_matrix(A)\n",
    "G = A_star @ A\n",
    "if print_latex_content:\n",
    "    print(\"Получим матрицу $G = A^*A$\\n\")\n",
    "    print(\"$G=\", ltx(G)[1:].replace(\"\\\\\\\\\", r'\\\\\\\\'))\n",
    "    print(\"$\\\\approx\", ltx(G.evalf(4))[1:])\n",
    "    print()"
   ]
  },
  {
   "cell_type": "markdown",
   "metadata": {},
   "source": [
    "Получим матрицу $G = A^*A$\n",
    "\n",
    "$G= \\left[\\begin{matrix}\\frac{18749419456}{297685449} & \\frac{1980234268}{297685449} & \\frac{10413443050}{893056347} & - \\frac{43503273542}{893056347}\\\\\\\\\\frac{9504801124}{297685449} & \\frac{5942204152}{297685449} & \\frac{1950726250}{893056347} & - \\frac{33162128306}{893056347}\\\\\\\\- \\frac{7295324390}{297685449} & - \\frac{5344744934}{297685449} & \\frac{8517160084}{893056347} & \\frac{29072772598}{893056347}\\\\\\\\- \\frac{11077817542}{297685449} & \\frac{576275342}{297685449} & - \\frac{14506061158}{893056347} & \\frac{24133715252}{893056347}\\end{matrix}\\right]$\n",
    "$\\approx \\left[\\begin{matrix}62.98 & 6.652 & 11.66 & -48.71\\\\31.93 & 19.96 & 2.184 & -37.13\\\\-24.51 & -17.95 & 9.537 & 32.55\\\\-37.21 & 1.936 & -16.24 & 27.02\\end{matrix}\\right]$\n"
   ]
  },
  {
   "cell_type": "markdown",
   "metadata": {},
   "source": [
    "И найдём её собственные числа и вектора:"
   ]
  },
  {
   "cell_type": "code",
   "execution_count": 24,
   "metadata": {},
   "outputs": [],
   "source": [
    "eigenvals = [re(item[0].evalf()) for item in G.eigenvects()]\n",
    "eigenvectors = [Matrix(re(item[2][0].evalf())) for item in G.eigenvects()]\n",
    "for i in range(len(eigenvectors)):\n",
    "    for j in range(len(eigenvectors[i])):\n",
    "        eigenvectors[i][j] = round(eigenvectors[i][j], 4)\n",
    "if print_latex_content:\n",
    "    print('$\\lambda_1 =', ', \\lambda_2 = '.join([str(round(e, 4)) for e in eigenvals]), '$')\n",
    "    print()\n",
    "    print('$d_1 =', ', $d_2 = '.join([ltx(e)[1:] for e in eigenvectors]))\n",
    "    print(1)"
   ]
  },
  {
   "cell_type": "markdown",
   "metadata": {},
   "source": [
    "$\\lambda_1 = 2.4037, \\lambda_2 = 8.7820, \\lambda_2 = 27.3635, \\lambda_2 = 80.9569 $\n",
    "\n",
    "$d_1 = \\left[\\begin{matrix}0.7264\\\\0.8005\\\\-0.0531\\\\1.0\\end{matrix}\\right]$, $d_2 = \\left[\\begin{matrix}1.3128\\\\-0.0583\\\\-1.8916\\\\1.0\\end{matrix}\\right]$, $d_2 = \\left[\\begin{matrix}2.3154\\\\3.5234\\\\-4.9057\\\\1.0\\end{matrix}\\right]$, $d_2 = \\left[\\begin{matrix}-2.269\\\\-1.7367\\\\1.671\\\\1.0\\end{matrix}\\right]$\n",
    "1"
   ]
  },
  {
   "cell_type": "markdown",
   "metadata": {},
   "source": [
    "Заметим, что все собственные числа положительны, откуда можно судить о положительной определённости матрицы $G$.\n",
    "\n",
    "Матрица $G$ позволяет определить норму матрицы $A$ в $l^2_4$ в случае, когда $A \\ne A^{-1}$.\n",
    "\n",
    "$||G|| = \\max{\\lambda_i}$\n",
    "\n",
    "$||A|| = \\sqrt{\\max{\\lambda_i}}$ следует из того, что $||Ax||^2 = (Ax, Ax) = (A^*Ax, x) = (Gx, x) = \\sum_{i=1}^4 {\\lambda_i x_i^2} \\le \\max\\lambda_i ||x|| = \\max\\lambda_i$"
   ]
  },
  {
   "cell_type": "markdown",
   "metadata": {},
   "source": [
    "### Задание 5"
   ]
  },
  {
   "cell_type": "markdown",
   "metadata": {},
   "source": [
    "Необходимо вычислить число обусловленности матрицы $A$ в пространстве $l_4^2$\n",
    "\n",
    "Норма $A$ в этом пространстве выражается как корень из максимального из собственных чисел матрицы $A A^*$, т.е. $G$. \n",
    "\n",
    "Таким образом, $||A|| = \\sqrt{\\lambda_4} = \\sqrt{80.9569} \\approx 9$\n",
    "\n",
    "Норму $A^{-1}$ можно получить из того факта, что, если матрица $A$ имеет собственные числа $\\lambda_1, ..., \\lambda_n$, то матрица $A^{-1}$ будет иметь собственные числа $\\frac{1}{\\lambda_1}, ..., \\frac{1}{\\lambda_n}$. Отсюда получаем, что норма $A^{-1}$ будет равна корню из обратного к минимальному собственному числу матрицы $G$. \n",
    "\n",
    "$||A^{-1}|| = \\frac{1}{\\sqrt{\\lambda_1}} = \\frac{1}{\\sqrt{2.4037}} \\approx 0.645$"
   ]
  },
  {
   "cell_type": "markdown",
   "metadata": {},
   "source": [
    "Тогда $\\mathrm{cond}(A) = ||A||\\cdot||A^{-1}|| \\approx 9 \\cdot 0.645 = 5.805$"
   ]
  },
  {
   "cell_type": "markdown",
   "metadata": {},
   "source": [
    "### Задание на пятёрку"
   ]
  },
  {
   "cell_type": "markdown",
   "metadata": {},
   "source": [
    "Методом итераций решить систему уравнений $Ax = b$. Начальное приближение $x_0 = (1, 1, 1, 1)$. $\\\\$\n",
    "$A = I - B, \\quad B = G^{-1}, \\quad b = (1/2, 1/3, 1/4, 1/5)$"
   ]
  },
  {
   "cell_type": "code",
   "execution_count": 25,
   "metadata": {},
   "outputs": [],
   "source": [
    "B = G.inv()\n",
    "A = np.identity(4, dtype=Rational) - B\n",
    "b = Matrix([Rational(i) for i in [\"1/2\", \"1/3\", \"1/4\", \"1/5\"]])\n",
    "if print_latex_content:\n",
    "    print(\"Матрица $B$ = \")\n",
    "    print(ltx(B).replace(r\"\\\\\", r'\\\\\\\\'))\n",
    "    print(\"$\\\\approx$\",ltx(B.evalf(3)))\n",
    "    print(\", её норма:\", ltx(sol.matrix_norm_inf(B)), \"$\\\\approx$\", sol.matrix_norm_inf(B).evalf(4))\n"
   ]
  },
  {
   "cell_type": "markdown",
   "metadata": {},
   "source": [
    "Матрица $B$\n",
    "$\\approx$ $\\left[\\begin{matrix}0.144 & 0.036 & 0.112 & 0.174\\\\0.0865 & 0.138 & 0.148 & 0.168\\\\-0.0405 & 0.0711 & 0.059 & -0.0464\\\\0.168 & 0.0824 & 0.18 & 0.237\\end{matrix}\\right]$\n",
    ", её норма: $\\frac{127028934574715}{190280490920136}$ $\\approx$ 0.6676"
   ]
  },
  {
   "cell_type": "markdown",
   "metadata": {},
   "source": [
    "\n",
    "Можно воспользоваться методом итерации для поиска решения:\n",
    "$x_{i+1} = Bx_i + b$\n",
    "\n",
    "Заметим, что норма $B$ меньше единицы, поэтому сходимость будет иметь место.\n",
    "\n",
    "Точное решение выглядит следующим образом:\n",
    "$x_* = \\left[\\begin{matrix}0.7564\\\\0.6137\\\\0.2521\\\\0.5548\\end{matrix}\\right]$\n",
    "\n",
    "Теперь проведём 10 итераций и посмотрим на $x_5, x_{10}$."
   ]
  },
  {
   "cell_type": "markdown",
   "metadata": {},
   "source": [
    "$x_5 = \\left[\\begin{matrix}0.7638\\\\0.6219\\\\0.2516\\\\0.565\\end{matrix}\\right]$, \n",
    "$x_{10} = \\left[\\begin{matrix}0.7565\\\\0.6138\\\\0.2521\\\\0.555\\end{matrix}\\right]$\n",
    "\n",
    "Как можно видеть, метод пришёл очень близко к точному решению."
   ]
  },
  {
   "cell_type": "markdown",
   "metadata": {},
   "source": [
    "#### Конец."
   ]
  },
  {
   "cell_type": "code",
   "execution_count": 26,
   "metadata": {},
   "outputs": [],
   "source": [
    "if print_latex_content:\n",
    "    print(\n",
    "        ltx(Matrix([round(t[0], 4) for t in np.linalg.solve(np.array(A.evalf(), dtype=float), np.array(b.evalf(), dtype=float))]))\n",
    "    )"
   ]
  },
  {
   "cell_type": "code",
   "execution_count": 30,
   "metadata": {},
   "outputs": [],
   "source": [
    "x0 = Matrix([Rational(i) for i in [\"1\", \"1\", \"1\", \"1\"]])\n",
    "x = [x0] + [0] * 10\n",
    "for i in range(1, 11):\n",
    "    x[i] = B @ x[i-1] + b\n",
    "x_rounded = [a.evalf(4) for a in x]\n",
    "if print_latex_content:\n",
    "    print(ltx(x_rounded[5]), ltx(x_rounded[10]), 1, sep='\\n')"
   ]
  }
 ],
 "metadata": {
  "kernelspec": {
   "display_name": "Python 3",
   "language": "python",
   "name": "python3"
  },
  "language_info": {
   "codemirror_mode": {
    "name": "ipython",
    "version": 3
   },
   "file_extension": ".py",
   "mimetype": "text/x-python",
   "name": "python",
   "nbconvert_exporter": "python",
   "pygments_lexer": "ipython3",
   "version": "3.10.7"
  }
 },
 "nbformat": 4,
 "nbformat_minor": 2
}
