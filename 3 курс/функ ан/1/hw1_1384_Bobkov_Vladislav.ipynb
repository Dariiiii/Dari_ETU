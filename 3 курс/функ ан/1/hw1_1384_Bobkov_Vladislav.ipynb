{
 "cells": [
  {
   "cell_type": "markdown",
   "metadata": {},
   "source": [
    "# Домашнее задание 1\n",
    "\n",
    "## Норма Минковского \n",
    "\n",
    "### Бобков Владислав, группа 1384\n",
    "\n",
    "Вариант 2"
   ]
  },
  {
   "cell_type": "markdown",
   "metadata": {},
   "source": [
    "1. Теорема Минковского: Если $W$  — выпуклое множество, то выражение $||x|| = inf \\{ \\lambda : \\frac{x}{\\lambda} \\in W, \\lambda > 0\\}$ задает норму в этом пространстве.\n",
    "\n",
    "Нужно проверить выпуклость множества, заданного в условии задачи \n",
    "\n"
   ]
  },
  {
   "cell_type": "markdown",
   "metadata": {},
   "source": [
    "По условию задачи, В R^3 задан многогранник W и две точки x и y. \n",
    "Требуется вычислить норму Минковского для ||x|| , ||y|| и ||x+y||"
   ]
  },
  {
   "cell_type": "code",
   "execution_count": 143,
   "metadata": {},
   "outputs": [],
   "source": [
    "import numpy as np\n",
    "from sympy import *"
   ]
  },
  {
   "cell_type": "code",
   "execution_count": 144,
   "metadata": {},
   "outputs": [
    {
     "name": "stdout",
     "output_type": "stream",
     "text": [
      " 110*x + 55*y + 10*z - 1430 = 0\n",
      " 35*x + 84*y + 84*z - 1344 = 0\n",
      " -81*x - 72*y - 96*z + 1368 = 0\n",
      " -57*x - 124*y - 92*z + 1696 = 0\n"
     ]
    }
   ],
   "source": [
    "# точки согласно 2 варианту\n",
    "A = np.array((13,0,0)).T\n",
    "B = np.array((0,19,0)).T\n",
    "C = np.array((0,0,16)).T\n",
    "D = np.array((8,10,0)).T\n",
    "E = np.array((12,0,11)).T\n",
    "G = np.array((0,7,9)).T\n",
    "\n",
    "dots = np.array(symbols('x y z')).T\n",
    "\n",
    "# нахождение уравнения плоскости по трем точкам\n",
    "def find_surface(x,y,z):\n",
    "    V1 = (y - x)\n",
    "    V2 = (z - x)\n",
    "    \n",
    "    # Нахождение коэффициентов нормали к плоскости (коэффициенты A B C в уравнении плоскости)\n",
    "    normal = np.cross(V1,V2)\n",
    "    surface = normal @ (dots - x)\n",
    "    return surface\n",
    "\n",
    "surfaces = [\n",
    "    find_surface(A,D,E),\n",
    "    find_surface(C,E,G),\n",
    "    find_surface(B,D,G),\n",
    "    find_surface(D,E,G)\n",
    "]\n",
    "\n",
    "for s in surfaces: \n",
    "    print(f\" {s} = 0\")\n",
    "    \n",
    "start_vertexes = [A,B,C,D,E,G]\n",
    "vertexes = []\n"
   ]
  },
  {
   "cell_type": "markdown",
   "metadata": {},
   "source": [
    "Уравнения плоскостей были получены. Остальные вершины получаются зеркальным отражением относительно координатных плоскостей\n",
    "То есть если v=(a,b,c) вершина, то и u=(+-a,+-b,+-c) тоже вершина. Всего 18 вершин."
   ]
  },
  {
   "cell_type": "code",
   "execution_count": 145,
   "metadata": {},
   "outputs": [
    {
     "name": "stdout",
     "output_type": "stream",
     "text": [
      "[[-13, 0, 0], [-12, 0, -11], [-12, 0, 11], [-8, -10, 0], [-8, 10, 0], [0, -19, 0], [0, -7, -9], [0, -7, 9], [0, 0, -16], [0, 0, 16], [0, 7, -9], [0, 7, 9], [0, 19, 0], [8, -10, 0], [8, 10, 0], [12, 0, -11], [12, 0, 11], [13, 0, 0]]\n"
     ]
    }
   ],
   "source": [
    "def find_all_vertexes():\n",
    "    global vertexes\n",
    "    for dot in start_vertexes:\n",
    "        for x in [-1, 1]:\n",
    "            for y in [-1, 1]:\n",
    "                for z in [-1, 1]:\n",
    "                    temp = np.array([x* dot[0], y * dot[1], z * dot[2]]).T     \n",
    "                    vertexes.append(temp)\n",
    "    matrices_array = np.array(vertexes)\n",
    "    unique_matrices_array = np.unique(matrices_array, axis=0)\n",
    "    vertexes = unique_matrices_array.tolist()\n",
    "                \n",
    "find_all_vertexes()\n",
    "\n",
    "print(vertexes)"
   ]
  },
  {
   "cell_type": "markdown",
   "metadata": {},
   "source": [
    "Теперь нужно проверить выпуклость данного многогранника.\n",
    "Многогранник выпуклый, если выполнено условие: для любой плоскости грани все вершины лежат в одном полупространстве.\n",
    "У W 32 грани, но в силу симметрии, достаточно проверить грани в первом квадранте.\n",
    "Надо составить уравнения плоскостей граней (плоскость через 3 точки)\n"
   ]
  },
  {
   "cell_type": "code",
   "execution_count": 146,
   "metadata": {},
   "outputs": [
    {
     "name": "stdout",
     "output_type": "stream",
     "text": [
      "Уравнение плоскости:  110*x + 55*y + 10*z - 1430\n",
      "- - - - - - - - - - - - - - 0 - 0 0 True\n",
      "Уравнение плоскости:  35*x + 84*y + 84*z - 1344\n",
      "- - - - - - - - - 0 - 0 + False\n",
      "Уравнение плоскости:  -81*x - 72*y - 96*z + 1368\n",
      "+ + + + + + + + + - False\n",
      "Уравнение плоскости:  -57*x - 124*y - 92*z + 1696\n",
      "+ + + + + + + + + + + 0 - False\n"
     ]
    }
   ],
   "source": [
    "#проверка выпуклости(достаточно проверить только 1 квадрант в силу симметричности)\n",
    "(x,y,z) = symbols('x y z')\n",
    "\n",
    "def check_bulge(surface, vertexes):\n",
    "    results = []\n",
    "    #print(vertexes)\n",
    "    for x1,y1,z1 in vertexes:\n",
    "        temp = surface.subs({x : x1, y : y1, z : z1})\n",
    "        if temp == 0:\n",
    "            print(0, end = \" \")\n",
    "        elif temp > 0:\n",
    "            results.append(1)\n",
    "            print(\"+\",end = \" \")\n",
    "        else:\n",
    "            results.append(0)\n",
    "            print(\"-\", end=\" \")\n",
    "        if 0 in results and 1 in results:\n",
    "            return False\n",
    "    return True\n",
    "\n",
    "for s in surfaces:\n",
    "    print(\"Уравнение плоскости: \", s)\n",
    "    print(check_bulge(s,vertexes))"
   ]
  },
  {
   "cell_type": "markdown",
   "metadata": {},
   "source": [
    "Как видно, многогранник нельзя назвать выпуклым, поэтому нужно поменять какие-то координаты. Как пример, можно поменять координаты точки G на (0,15,9)"
   ]
  },
  {
   "cell_type": "code",
   "execution_count": 147,
   "metadata": {},
   "outputs": [
    {
     "name": "stdout",
     "output_type": "stream",
     "text": [
      "Уравнение плоскости:  110*x + 55*y + 10*z - 1430\n",
      "- - - - - - - - - - - - - - 0 - 0 0 True\n",
      "\n",
      "Уравнение плоскости:  75*x + 84*y + 180*z - 2880\n",
      "- - - - - - - - - 0 - - - - - - 0 - True\n",
      "\n",
      "Уравнение плоскости:  -81*x - 72*y - 32*z + 1368\n",
      "+ + + + + + + + + + + + 0 + 0 + + + True\n",
      "\n",
      "Уравнение плоскости:  -145*x - 124*y - 60*z + 2400\n",
      "+ + + + + + + + + + + + + + 0 + 0 + True\n",
      "\n"
     ]
    }
   ],
   "source": [
    "G = np.array((0,15,9)).T\n",
    "surfaces = [\n",
    "    find_surface(A,D,E),\n",
    "    find_surface(C,E,G),\n",
    "    find_surface(B,D,G),\n",
    "    find_surface(D,E,G)\n",
    "]\n",
    "vertexes = []\n",
    "\n",
    "find_all_vertexes()\n",
    "\n",
    "for i in surfaces:\n",
    "    print(\"Уравнение плоскости: \", i)\n",
    "    print(check_bulge(i,vertexes),end='\\n\\n')\n"
   ]
  },
  {
   "cell_type": "markdown",
   "metadata": {},
   "source": [
    "Теперь многогранник можно назвать выпуклым, все условия теоремы Минковского выполнены, можно считать норму Минковского для векторов X, Y, X + Y"
   ]
  },
  {
   "cell_type": "code",
   "execution_count": 149,
   "metadata": {},
   "outputs": [
    {
     "name": "stdout",
     "output_type": "stream",
     "text": [
      "[ 37   0 121]\n",
      "[ 80 100 256]\n",
      "[117 100 377]\n",
      "5.4427083333 3.0833333333 4.3541666667 12.8802083333\n",
      "7.6666666667 6.6666666667 6.6666666667 21.000000000100002\n",
      "13.109375 9.75 6.6666666667 29.5260416667\n"
     ]
    }
   ],
   "source": [
    "X = -A[0] * A + E[2] * E\n",
    "Y = C[2] * C - D[1] * D\n",
    "Z = X + Y\n",
    "\n",
    "def make_positive(m):\n",
    "    for i in range(len(m)):\n",
    "        if m[i] < 0:\n",
    "            m[i] *=-1\n",
    "            \n",
    "make_positive(X)\n",
    "make_positive(Y)\n",
    "make_positive(Z)\n",
    "\n",
    "print(X,Y,Z, sep='\\n')\n",
    "\n",
    "A1 = np.cross(E,D) / (np.cross(E,D) @ A)\n",
    "E1 = np.cross(A,D) / (np.cross(A,D) @ E)\n",
    "D1 = np.cross(A,E) / (np.cross(A,E) @ D)\n",
    "\n",
    "ax1 = np.round(X @ A1,10)\n",
    "bx1 = np.round(X @ E1)\n",
    "cx1 = np.round(X @ D1)\n",
    "\n",
    "#print(ax1,bx1,cx1)\n",
    "\n",
    "ay1 =np.round( Y @ A1,10)\n",
    "by1 = np.round(Y @ E1,10)\n",
    "cy1 = np.round(Y @ D1,10)\n",
    "\n",
    "#print(ay1,by1,cy1)\n",
    "\n",
    "az1 = np.round(Z @ A1,10)\n",
    "bz1 = np.round(Z @ E1,10)\n",
    "cz1 = np.round(Z @ D1,10)\n",
    "\n",
    "#print(az1,bz1,cz1)\n",
    "\n",
    "D2 = np.cross(E,G) / (np.cross(E,G) @ D)\n",
    "E2 = np.cross(G,D) / (np.cross(G,D) @ E)\n",
    "G2 = np.cross(E,D) / (np.cross(E,D) @ G)\n",
    "\n",
    "ax2 = np.round(X @ D2,10)\n",
    "bx2 = np.round(X @ E2,10)\n",
    "cx2 = np.round(X @ G2, 10)\n",
    "\n",
    "\n",
    "ay2 = np.round(Y @ D2,10)\n",
    "by2 = np.round(Y @ E2,10)\n",
    "cy2 = np.round(Y @ G2,10)\n",
    "\n",
    "\n",
    "az2 = np.round(Z @ D2,10)\n",
    "bz2 = np.round(Z @ E2,10)\n",
    "cz2 = np.round(Z @ G2,10)\n",
    "\n",
    "\n",
    "B3 = np.cross(G,D) / (np.cross(G,D) @ B)\n",
    "D3 = np.cross(B,G) / (np.cross(B,G) @ D)\n",
    "G3 = np.cross(B,D) / (np.cross(B,D) @ G)\n",
    "\n",
    "ax3 = np.round(X @ B3,10)\n",
    "bx3 = np.round(X @ D3,10)\n",
    "cx3 = np.round(X @ G3,10)\n",
    "\n",
    "ay3 = np.round(Y @ B3,10)\n",
    "by3 = np.round(Y @ D3,10)\n",
    "cy3 = np.round(Y @ G3,10)\n",
    "\n",
    "az3 = np.round(Z @ B3,10)\n",
    "bz3 = np.round(Z @ D3,10)\n",
    "cz3 = np.round(Z @ G3,10)\n",
    "\n",
    "C4 = np.cross(E,G) / (np.cross(E,G) @ C)\n",
    "E4 = np.cross(C,G) / (np.cross(C,G) @ E)\n",
    "G4 = np.cross(E,C) / (np.cross(E,C) @ G)\n",
    "\n",
    "ax4 = np.round(X @ C4,10)\n",
    "bx4 = np.round(X @ E4,10)\n",
    "cx4 = np.round(X @ G2,10)\n",
    "print(ax4,bx4,cx4,ax4+bx4+cx4)\n",
    "ay4 = np.round(Y @ C4,10)\n",
    "by4 = np.round(Y @ E4,10)\n",
    "cy4 = np.round(Y @ G4,10)\n",
    "print(ay4,by4,cy4,ay4+by4+cy4)\n",
    "az4 = np.round(Z @ C4,10)\n",
    "bz4 = np.round(Z @ E4,10)\n",
    "cz4 = np.round(Z @ G4,10)\n",
    "print(az4,bz4,cz4,az4+bz4+cz4)\n"
   ]
  },
  {
   "cell_type": "markdown",
   "metadata": {},
   "source": [
    "Для вычисления нормы Минковского точки X надо знать, какую из граней пересекает отрезок 0X, иными словами, в конусе какой грани лежит точка X.\n",
    "\n",
    "Для этого необходимо разложить вектор по базису, задаваемым вершинами при грани. Пусть v1,v2,v3, - базис, задаваемый вершинами на грани. Тогда, если $x = \\alpha_1 x_1 + \\alpha_2 x_2 + \\alpha_3 x_3$ и все $\\alpha$ будут положительными, данная грань будет ближайшей к X \n",
    "\n",
    "Для того, чтобы найти $\\alpha$ воспользуемся биортогональным базисом - таким набором векторов $u_i$, что $(u_i,v_j) = 0, j != i и (u_i,v_i) = 1$, тогда $\\alpha_i = (x_i,u_i)$\n",
    "\n",
    "Легко проверить, что в трёхмерном случае данным требованиям удовлетворяет набор векторов, заданный как  $u_i = \\frac{v_j \\times v_k}{(v_j \\times v_k,v_i)}$\n",
    "\n",
    "Норма Минковского будет равна сумме полученных коэффициентов."
   ]
  },
  {
   "cell_type": "markdown",
   "metadata": {},
   "source": []
  }
 ],
 "metadata": {
  "kernelspec": {
   "display_name": "Python 3 (ipykernel)",
   "language": "python",
   "name": "python3"
  },
  "language_info": {
   "codemirror_mode": {
    "name": "ipython",
    "version": 3
   },
   "file_extension": ".py",
   "mimetype": "text/x-python",
   "name": "python",
   "nbconvert_exporter": "python",
   "pygments_lexer": "ipython3",
   "version": "3.11.5"
  }
 },
 "nbformat": 4,
 "nbformat_minor": 2
}
